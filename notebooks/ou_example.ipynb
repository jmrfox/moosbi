{
 "cells": [
  {
   "cell_type": "code",
   "execution_count": 1,
   "id": "9f8fafd1",
   "metadata": {},
   "outputs": [],
   "source": [
    "from moosbi import IndependentParameter, ParameterBank, make_ou_example\n",
    "\n",
    "bank = ParameterBank(\n",
    "    parameters={\n",
    "        # model params (sampled)\n",
    "        \"theta\": IndependentParameter(1.0, is_sampled=True, range=(0.1, 5.0)),\n",
    "        \"mu\":    IndependentParameter(0.0, is_sampled=True, range=(-2.0, 2.0)),\n",
    "        \"sigma\": IndependentParameter(0.5, is_sampled=True, range=(0.05, 2.0)),\n",
    "        # sim controls (fixed)\n",
    "        \"T\":       IndependentParameter(2.0, is_sampled=False, range=(0.1, 10.0)),\n",
    "        \"dt\":      IndependentParameter(1e-3, is_sampled=False, range=(1e-4, 1e-2)),\n",
    "        \"burn_in\": IndependentParameter(500, is_sampled=False, range=(0, 5000)),\n",
    "        \"x0\":      IndependentParameter(0.0, is_sampled=False, range=(-5.0, 5.0)),\n",
    "        # targets (fixed)\n",
    "        \"target_mean\": IndependentParameter(0.0, is_sampled=False, range=(-5.0, 5.0)),\n",
    "        \"target_var\":  IndependentParameter(1.0, is_sampled=False, range=(0.0, 10.0)),\n",
    "        \"target_ac1\":  IndependentParameter(0.8, is_sampled=False, range=(-0.99, 0.99)),\n",
    "    },\n",
    "    theta_sampling=True,\n",
    ")\n",
    "\n",
    "sim = make_ou_example(bank, seeds=[0, 1, 2])\n",
    "theta = bank.sample(size=None)  # 1D, sampled params only\n",
    "params = sim.to_instance(theta)\n",
    "\n",
    "# Run per seed; aggregate in your runner\n",
    "for seed in sim.trials():\n",
    "    out = sim.simulate(params, seed=seed)\n",
    "    f_vec = sim.objective_values(out, params)  # np.ndarray"
   ]
  }
 ],
 "metadata": {
  "kernelspec": {
   "display_name": ".venv",
   "language": "python",
   "name": "python3"
  },
  "language_info": {
   "codemirror_mode": {
    "name": "ipython",
    "version": 3
   },
   "file_extension": ".py",
   "mimetype": "text/x-python",
   "name": "python",
   "nbconvert_exporter": "python",
   "pygments_lexer": "ipython3",
   "version": "3.12.3"
  }
 },
 "nbformat": 4,
 "nbformat_minor": 5
}
